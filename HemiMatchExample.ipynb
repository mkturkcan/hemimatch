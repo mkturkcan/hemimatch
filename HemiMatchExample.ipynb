{
 "cells": [
  {
   "cell_type": "markdown",
   "metadata": {},
   "source": [
    "# Hemimatch Example\n",
    "\n",
    "Before starting the library, you will want to unzip the contents of https://open.quiltdata.com/b/janelia-flylight-color-depth/tree/Color_Depth_MIPs_For_Download/EM_Hemibrain11_0630_2020_radi2_PackBits_noNeuronName.zip to a local images/ folder. These images will be used for the matching. Precomputed binary match data is available at https://ffbodata.neuronlp.fruitflybrain.org/match_data/ as well.\n",
    "\n",
    "Then, start by importing the library:"
   ]
  },
  {
   "cell_type": "code",
   "execution_count": 1,
   "metadata": {},
   "outputs": [],
   "source": [
    "from hemimatch_lib import *"
   ]
  },
  {
   "cell_type": "markdown",
   "metadata": {},
   "source": [
    "Binary matches are fastest:"
   ]
  },
  {
   "cell_type": "code",
   "execution_count": 2,
   "metadata": {},
   "outputs": [],
   "source": [
    "X = load_binary_dataset()"
   ]
  },
  {
   "cell_type": "code",
   "execution_count": 3,
   "metadata": {},
   "outputs": [],
   "source": [
    "score_order, scores, onlyfiles = match_cpu_inmemory('eb_ex.png', X)"
   ]
  },
  {
   "cell_type": "markdown",
   "metadata": {},
   "source": [
    "You can use the matches as follows to generate NLP queries; here, we used local EB neurons as our input patterns, and we find such neurons. You can use hemibrain_template.png as a template and eb_ex.png as an example of a image to use:"
   ]
  },
  {
   "cell_type": "code",
   "execution_count": 5,
   "metadata": {},
   "outputs": [
    {
     "name": "stdout",
     "output_type": "stream",
     "text": [
      "show /:referenceId:[1261082560, 1198330641, 1261086755, 1261091157, 1100792636, 5813057274, 1228692168, 5813047446, 1198330641, 1261091174, 1261423480, 1261086823, 1228692168, 1261423444, 1198680426, 1261436305, 5812983887, 5812979082, 5813020587, 5813080272, 1261432052, 1261091124, 1261086756, 1198680441, 1261427765, 1261436508, 1231070863, 5812979686, 1230738163, 1351874277, 1261427892, 1198680122, 1261419142, 1261760187, 1261427857, 1292458366, 1100792636, 1261432076, 1230121634, 1292113218, 1261427999, 1261432159, 1292445517, 1261086734, 1261423454, 1261773006, 1261768832, 1261756007, 1198684596, 1260422110]\n"
     ]
    },
    {
     "data": {
      "text/plain": [
       "'show /:referenceId:[1261082560, 1198330641, 1261086755, 1261091157, 1100792636, 5813057274, 1228692168, 5813047446, 1198330641, 1261091174, 1261423480, 1261086823, 1228692168, 1261423444, 1198680426, 1261436305, 5812983887, 5812979082, 5813020587, 5813080272, 1261432052, 1261091124, 1261086756, 1198680441, 1261427765, 1261436508, 1231070863, 5812979686, 1230738163, 1351874277, 1261427892, 1198680122, 1261419142, 1261760187, 1261427857, 1292458366, 1100792636, 1261432076, 1230121634, 1292113218, 1261427999, 1261432159, 1292445517, 1261086734, 1261423454, 1261773006, 1261768832, 1261756007, 1198684596, 1260422110]'"
      ]
     },
     "execution_count": 5,
     "metadata": {},
     "output_type": "execute_result"
    }
   ],
   "source": [
    "get_top_k(onlyfiles, score_order)"
   ]
  },
  {
   "cell_type": "markdown",
   "metadata": {},
   "source": [
    "Sequential matches are slower:"
   ]
  },
  {
   "cell_type": "code",
   "execution_count": null,
   "metadata": {},
   "outputs": [],
   "source": [
    "score_order, scores, onlyfiles = match_cpu_sequential('eb_ex.png')"
   ]
  },
  {
   "cell_type": "markdown",
   "metadata": {},
   "source": [
    "You can also use tensorflow for matching with GPU support:"
   ]
  },
  {
   "cell_type": "code",
   "execution_count": null,
   "metadata": {},
   "outputs": [],
   "source": [
    "score_order, scores, onlyfiles = match_gpu('eb_ex.png', batch_size = 1, workers = 1)"
   ]
  }
 ],
 "metadata": {
  "kernelspec": {
   "display_name": "Python 3",
   "language": "python",
   "name": "python3"
  },
  "language_info": {
   "codemirror_mode": {
    "name": "ipython",
    "version": 3
   },
   "file_extension": ".py",
   "mimetype": "text/x-python",
   "name": "python",
   "nbconvert_exporter": "python",
   "pygments_lexer": "ipython3",
   "version": "3.6.7"
  }
 },
 "nbformat": 4,
 "nbformat_minor": 2
}
