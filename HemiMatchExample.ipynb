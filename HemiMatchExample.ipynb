{
 "cells": [
  {
   "cell_type": "markdown",
   "metadata": {},
   "source": [
    "# Hemimatch Example\n",
    "\n",
    "Before starting the library, you will want to unzip the contents of https://open.quiltdata.com/b/janelia-flylight-color-depth/tree/Color_Depth_MIPs_For_Download/EM_Hemibrain11_0630_2020_radi2_PackBits_noNeuronName.zip to a local images/ folder. These images will be used for the matching.\n",
    "\n",
    "Then, start by importing the library:"
   ]
  },
  {
   "cell_type": "code",
   "execution_count": 2,
   "metadata": {},
   "outputs": [],
   "source": [
    "from hemimatch_lib import *"
   ]
  },
  {
   "cell_type": "markdown",
   "metadata": {},
   "source": [
    "Binary matches are fastest:"
   ]
  },
  {
   "cell_type": "code",
   "execution_count": 3,
   "metadata": {},
   "outputs": [],
   "source": [
    "X = load_binary_dataset()"
   ]
  },
  {
   "cell_type": "code",
   "execution_count": 5,
   "metadata": {},
   "outputs": [],
   "source": [
    "score_order, scores, onlyfiles = match_cpu_inmemory('BPN_example.png', X)"
   ]
  },
  {
   "cell_type": "markdown",
   "metadata": {},
   "source": [
    "Sequential matches are slower:"
   ]
  },
  {
   "cell_type": "code",
   "execution_count": null,
   "metadata": {},
   "outputs": [],
   "source": [
    "score_order, scores, onlyfiles = match_cpu_sequential('BPN_example.png')"
   ]
  },
  {
   "cell_type": "markdown",
   "metadata": {},
   "source": [
    "You can also use tensorflow for matching with GPU support:"
   ]
  },
  {
   "cell_type": "code",
   "execution_count": null,
   "metadata": {},
   "outputs": [],
   "source": [
    "score_order, scores, onlyfiles = match_gpu('BPN_example.png', batch_size = 1, workers = 1)"
   ]
  },
  {
   "cell_type": "markdown",
   "metadata": {},
   "source": [
    "You can use the matches as follows to generate NLP queries:"
   ]
  },
  {
   "cell_type": "code",
   "execution_count": 6,
   "metadata": {},
   "outputs": [
    {
     "name": "stdout",
     "output_type": "stream",
     "text": [
      "show /:referenceId:[1011728599, 1067240551, 920873167, 920869856, 5813022896, 448342846, 853437567, 1191665829, 1385420918, 5901222683, 735470654, 574736017, 1070651567, 1137499592, 702760942, 1321680175, 1322025494, 1321680157, 859960201, 892385258, 1321339259, 1343804739, 5813022234, 5813020386, 5813133463, 1570999631, 5812978981, 5901218930, 1200053009, 1353755801, 1320286990, 890671753, 675144908, 1225238274, 1135777647, 921667198, 891663788, 1197234751, 1321680175, 1042724993, 5813057861, 763116811, 977223393, 920994194, 829279239, 921015773, 1102407288, 5813047467, 1262632452, 675136878]\n"
     ]
    },
    {
     "data": {
      "text/plain": [
       "'show /:referenceId:[1011728599, 1067240551, 920873167, 920869856, 5813022896, 448342846, 853437567, 1191665829, 1385420918, 5901222683, 735470654, 574736017, 1070651567, 1137499592, 702760942, 1321680175, 1322025494, 1321680157, 859960201, 892385258, 1321339259, 1343804739, 5813022234, 5813020386, 5813133463, 1570999631, 5812978981, 5901218930, 1200053009, 1353755801, 1320286990, 890671753, 675144908, 1225238274, 1135777647, 921667198, 891663788, 1197234751, 1321680175, 1042724993, 5813057861, 763116811, 977223393, 920994194, 829279239, 921015773, 1102407288, 5813047467, 1262632452, 675136878]'"
      ]
     },
     "execution_count": 6,
     "metadata": {},
     "output_type": "execute_result"
    }
   ],
   "source": [
    "get_top_k(onlyfiles, score_order)"
   ]
  }
 ],
 "metadata": {
  "kernelspec": {
   "display_name": "Python 3",
   "language": "python",
   "name": "python3"
  },
  "language_info": {
   "codemirror_mode": {
    "name": "ipython",
    "version": 3
   },
   "file_extension": ".py",
   "mimetype": "text/x-python",
   "name": "python",
   "nbconvert_exporter": "python",
   "pygments_lexer": "ipython3",
   "version": "3.6.7"
  }
 },
 "nbformat": 4,
 "nbformat_minor": 2
}
